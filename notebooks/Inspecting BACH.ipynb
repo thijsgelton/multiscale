{
 "cells": [
  {
   "cell_type": "code",
   "execution_count": 10,
   "metadata": {
    "collapsed": true,
    "pycharm": {
     "name": "#%%\n"
    }
   },
   "outputs": [],
   "source": [
    "import xmltodict\n",
    "from glob import glob\n",
    "from pprint import pprint"
   ]
  },
  {
   "cell_type": "code",
   "execution_count": 20,
   "outputs": [
    {
     "data": {
      "text/plain": "{'Benign', 'In-Situ', 'Invasive', 'Normal'}"
     },
     "execution_count": 20,
     "metadata": {},
     "output_type": "execute_result"
    }
   ],
   "source": [
    "all_classes = []\n",
    "for xml in glob(r\"Z:/projects/pathology-multires-segmentation/data/bachtrainingdata/data/tif_data/xmls_with_normal/*A01.xml\"):\n",
    "    with open(xml, 'r') as xml_fp:\n",
    "        xml_dict = xmltodict.parse(xml_fp.read())\n",
    "        all_classes.extend([anno['@PartOfGroup'] for anno in xml_dict['ASAP_Annotations']['Annotations']['Annotation']])\n",
    "\n",
    "set(all_classes)"
   ],
   "metadata": {
    "collapsed": false,
    "pycharm": {
     "name": "#%%\n"
    }
   }
  },
  {
   "cell_type": "code",
   "execution_count": 21,
   "outputs": [
    {
     "name": "stderr",
     "output_type": "stream",
     "text": [
      "D:\\Programs\\anaconda3\\envs\\nnunet-for-pathology\\lib\\site-packages\\wholeslidedata\\annotation\\structures.py:22: ShapelyDeprecationWarning: Setting custom attributes on geometry objects is deprecated, and will raise an AttributeError in Shapely 2.0\n",
      "  self._index = index\n",
      "D:\\Programs\\anaconda3\\envs\\nnunet-for-pathology\\lib\\site-packages\\wholeslidedata\\annotation\\structures.py:23: ShapelyDeprecationWarning: Setting custom attributes on geometry objects is deprecated, and will raise an AttributeError in Shapely 2.0\n",
      "  self._label = Label.create(label)\n",
      "D:\\Programs\\anaconda3\\envs\\nnunet-for-pathology\\lib\\site-packages\\wholeslidedata\\annotation\\structures.py:24: ShapelyDeprecationWarning: Setting custom attributes on geometry objects is deprecated, and will raise an AttributeError in Shapely 2.0\n",
      "  self._coordinates = coordinates\n",
      "D:\\Programs\\anaconda3\\envs\\nnunet-for-pathology\\lib\\site-packages\\wholeslidedata\\annotation\\structures.py:25: ShapelyDeprecationWarning: Setting custom attributes on geometry objects is deprecated, and will raise an AttributeError in Shapely 2.0\n",
      "  self._kwargs = kwargs\n",
      "D:\\Programs\\anaconda3\\envs\\nnunet-for-pathology\\lib\\site-packages\\wholeslidedata\\annotation\\structures.py:110: ShapelyDeprecationWarning: Setting custom attributes on geometry objects is deprecated, and will raise an AttributeError in Shapely 2.0\n",
      "  self._holes = holes\n",
      "D:\\Programs\\anaconda3\\envs\\nnunet-for-pathology\\lib\\site-packages\\wholeslidedata\\annotation\\structures.py:111: ShapelyDeprecationWarning: Setting custom attributes on geometry objects is deprecated, and will raise an AttributeError in Shapely 2.0\n",
      "  self._overlapping_annotations = []\n"
     ]
    },
    {
     "data": {
      "text/plain": "<wholeslidedata.annotation.wholeslideannotation.WholeSlideAnnotation at 0x25bde1b1940>"
     },
     "execution_count": 21,
     "metadata": {},
     "output_type": "execute_result"
    }
   ],
   "source": [
    "from wholeslidedata.annotation.wholeslideannotation import WholeSlideAnnotation\n",
    "\n",
    "WholeSlideAnnotation(r\"Z:/projects/pathology-multires-segmentation/data/bachtrainingdata/data/tif_data/xmls_with_normal/A01.xml\")"
   ],
   "metadata": {
    "collapsed": false,
    "pycharm": {
     "name": "#%%\n"
    }
   }
  }
 ],
 "metadata": {
  "kernelspec": {
   "name": "nnunet",
   "language": "python",
   "display_name": "nnunet"
  },
  "language_info": {
   "codemirror_mode": {
    "name": "ipython",
    "version": 2
   },
   "file_extension": ".py",
   "mimetype": "text/x-python",
   "name": "python",
   "nbconvert_exporter": "python",
   "pygments_lexer": "ipython2",
   "version": "2.7.6"
  }
 },
 "nbformat": 4,
 "nbformat_minor": 0
}